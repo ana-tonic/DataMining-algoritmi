{
 "cells": [
  {
   "cell_type": "code",
   "execution_count": 16,
   "id": "a1d1ff79",
   "metadata": {},
   "outputs": [],
   "source": [
    "from sklearn.model_selection import train_test_split\n",
    "from sklearn.metrics import classification_report, confusion_matrix\n",
    "import numpy as np\n",
    "import pandas as pd\n",
    "import seaborn as sns\n",
    "import matplotlib.pyplot as plt"
   ]
  },
  {
   "cell_type": "code",
   "execution_count": 2,
   "id": "299dfa7d",
   "metadata": {},
   "outputs": [],
   "source": [
    "class Node:\n",
    "    def __init__(self, f_idx=None, thres=None, left=None, right=None, inf=None, val=None):\n",
    "        self.feature_index =f_idx\n",
    "        self.threshold = thres\n",
    "        self.left = left\n",
    "        self.right = right\n",
    "        self.info_gain = inf\n",
    "        self.value = val\n",
    "\n",
    "class DecisionTree:\n",
    "    \n",
    "    def __init__(self, min_split_samples=2, max_tree_depth=100):\n",
    "        self.min_split_samples=min_split_samples\n",
    "        self.max_tree_depth=max_tree_depth\n",
    "        self.tree_root = None\n",
    "   \n",
    "    # funkcije za predvidjanje\n",
    "    def predict_examples(self, X):\n",
    "        results = []\n",
    "        for i in range(X.shape[0]):\n",
    "            results.append(self.predict(self.tree_root, X.iloc[i]))\n",
    "        return results\n",
    "\n",
    "        \n",
    "    def predict(self, node, x):\n",
    "        if node.value is not None:\n",
    "            return node.value\n",
    "        if x[node.feature_index] <= node.threshold:\n",
    "            return self.predict(node.left, x)\n",
    "        else:\n",
    "            return self.predict(node.right, x)\n",
    "        \n",
    "    \n",
    "    # funkcije za treniranje\n",
    "    def train(self, X, y):\n",
    "        self.tree_root = self.building_decision_tree(X, y)\n",
    "\n",
    "    \n",
    "    # funkcija koja gradi stablo odluke\n",
    "    def building_decision_tree(self, x, y, depth=0):\n",
    "        \n",
    "        if(depth >= self.max_tree_depth or y.nunique() == 1 or x.shape[0] < self.min_split_samples):\n",
    "            # kreirati cvor\n",
    "            val = self.most_common_label(y)\n",
    "            return Node(val=val)\n",
    "        \n",
    "        best_split = self.find_best_split(x, y)\n",
    "        left_dataset = pd.DataFrame()\n",
    "        left_labels = []\n",
    "        right_dataset = pd.DataFrame()\n",
    "        right_labels = []\n",
    "        for index, row in x.iterrows():\n",
    "            if (row[best_split['column']] <= best_split['threshold']):\n",
    "                left_dataset = pd.concat([left_dataset, pd.DataFrame(row).T], ignore_index=True)\n",
    "                left_labels.append(y[index])\n",
    "            else:\n",
    "                right_dataset = pd.concat([right_dataset, pd.DataFrame(row).T], ignore_index=True)\n",
    "                right_labels.append(y[index])\n",
    "                \n",
    "        left_labels = pd.Series(left_labels)\n",
    "        right_labels = pd.Series(right_labels)\n",
    "        left_tree = self.building_decision_tree(left_dataset, left_labels, depth+1)\n",
    "        right_tree = self.building_decision_tree(right_dataset, right_labels, depth+1)\n",
    "        return Node(f_idx=best_split['column'], \n",
    "                    thres=best_split['threshold'], \n",
    "                    left=left_tree, \n",
    "                    right=right_tree)\n",
    "        \n",
    "    \n",
    "    # funckija koja nalazi najbolju podelu\n",
    "    def find_best_split(self, x, y):\n",
    "        features_entropies = self.calculate_features_entropies(x, y)\n",
    "        best_split = None\n",
    "        best_split_value = float('inf')\n",
    "        \n",
    "        for column in x.columns:\n",
    "            value = features_entropies[column][0]\n",
    "            if value < best_split_value:\n",
    "                best_split = {}\n",
    "                best_split[\"column\"] = column\n",
    "                best_split[\"entropy\"] = features_entropies[column][0]\n",
    "                best_split[\"threshold\"]= features_entropies[column][1]\n",
    "                best_split_value = value\n",
    "        return best_split\n",
    "    \n",
    "    # funkcija koja za svaki feature racuna entropy\n",
    "    def calculate_features_entropies(self, x, y):\n",
    "        features_entropies = {}\n",
    "        \n",
    "        # za svaki feature pozovi funkciju koja racuna entropy za taj feature\n",
    "        features = x.columns\n",
    "        for feature in features:\n",
    "            feature_entropy, threshold = self.feature_entropy(x, y, feature)\n",
    "            features_entropies[feature] = feature_entropy, threshold\n",
    "            \n",
    "        return features_entropies\n",
    "    \n",
    "    # funkcija koja racuna entropy za jedan feature, za sve threshold-ove\n",
    "    def feature_entropy(self, x, y, feature_idx):\n",
    "        feature_entropy = float('inf')\n",
    "        threshold = None\n",
    "        \n",
    "        unique_values = pd.Series.unique(x[feature_idx])\n",
    "        for value in unique_values:\n",
    "            threshold_entropy = self.threshold_entropy(x, y, feature_idx, value)\n",
    "            if threshold_entropy < feature_entropy:\n",
    "                feature_entropy = threshold_entropy\n",
    "                threshold = value\n",
    "        return feature_entropy, threshold\n",
    "    \n",
    "    # funkcija koja racuna entropy za jedan feature, za jedan threshold\n",
    "    def threshold_entropy(self, x, y, feature_idx, threshold):\n",
    "        x_left = []\n",
    "        y_left = []\n",
    "        x_right = []\n",
    "        y_right = []\n",
    "        \n",
    "        for idx, value in enumerate(x[feature_idx]):\n",
    "            if value <= threshold:\n",
    "                x_left.append(x.iloc[idx])\n",
    "                y_left.append(y[idx])\n",
    "            else: \n",
    "                x_right.append(x.iloc[idx])\n",
    "                y_right.append(y[idx])\n",
    "                \n",
    "        entropy_left = self.child_dataset_entropy(y_left)\n",
    "        entropy_right = self.child_dataset_entropy(y_right)\n",
    "        total_entropy = (len(y_left)/len(y))*entropy_left + (len(y_right)/len(y))*entropy_right\n",
    "        return total_entropy\n",
    "    \n",
    "    # funkcija koja racuna entropy za jedan child dataset\n",
    "    def child_dataset_entropy(self, y):\n",
    "        classes, counts = np.unique(y, return_counts=True)\n",
    "        proportion = counts / np.sum(counts)\n",
    "        entropy = - np.sum(proportion*np.log2(proportion))\n",
    "        return entropy\n",
    "    \n",
    "    def most_common_label(self, y):\n",
    "        counts = y.value_counts()\n",
    "        most_common_label = counts.idxmax()\n",
    "        return most_common_label \n",
    "    \n",
    "def accuracy(y_test, y_pred):\n",
    "    return np.sum(y_test == y_pred) / len(y_test)   "
   ]
  },
  {
   "cell_type": "code",
   "execution_count": 3,
   "id": "da1b057d",
   "metadata": {},
   "outputs": [],
   "source": [
    "col_names = [\n",
    "    \"Pregnancies\",\n",
    "    \"Glucose\",\n",
    "    \"BloodPressure\",\n",
    "    \"SkinThickness\",\n",
    "    \"Insulin\",\n",
    "    \"BMI\",\n",
    "    \"DiabetesPedigreeFunction\",\n",
    "    \"Age\",\n",
    "    \"Outcome\",\n",
    "]\n",
    "\n",
    "df = pd.read_csv(\"diabetes.csv\", skiprows=1, header=None, names=col_names)"
   ]
  },
  {
   "cell_type": "code",
   "execution_count": 5,
   "id": "1cf12820",
   "metadata": {},
   "outputs": [
    {
     "data": {
      "text/plain": [
       "(768, 9)"
      ]
     },
     "execution_count": 5,
     "metadata": {},
     "output_type": "execute_result"
    }
   ],
   "source": [
    "df.shape"
   ]
  },
  {
   "cell_type": "code",
   "execution_count": 4,
   "id": "41361531",
   "metadata": {},
   "outputs": [
    {
     "name": "stdout",
     "output_type": "stream",
     "text": [
      "number of duplicate rows:  (0, 9)\n"
     ]
    }
   ],
   "source": [
    "# Handle duplicates\n",
    "duplicate_rows_data = df[df.duplicated()]\n",
    "print(\"number of duplicate rows: \", duplicate_rows_data.shape)"
   ]
  },
  {
   "cell_type": "code",
   "execution_count": 6,
   "id": "8ad56a75",
   "metadata": {},
   "outputs": [
    {
     "name": "stdout",
     "output_type": "stream",
     "text": [
      "Pregnancies                 0\n",
      "Glucose                     0\n",
      "BloodPressure               0\n",
      "SkinThickness               0\n",
      "Insulin                     0\n",
      "BMI                         0\n",
      "DiabetesPedigreeFunction    0\n",
      "Age                         0\n",
      "Outcome                     0\n",
      "dtype: int64\n"
     ]
    }
   ],
   "source": [
    "# Checking null values\n",
    "print(df.isnull().sum())"
   ]
  },
  {
   "cell_type": "code",
   "execution_count": 8,
   "id": "c2c3cd1d",
   "metadata": {},
   "outputs": [],
   "source": [
    "y = df[\"Outcome\"]\n",
    "X = df.drop(\"Outcome\", axis=1)\n",
    "\n",
    "X_train, X_test, y_train, y_test = train_test_split(\n",
    "    X, y, test_size=0.2, random_state=1234\n",
    ")\n",
    "\n",
    "# Reset indices\n",
    "X_train = X_train.reset_index(drop=True)\n",
    "y_train = y_train.reset_index(drop=True)\n",
    "\n",
    "clf = DecisionTree()\n",
    "clf.train(X_train, y_train)\n",
    "predictions = clf.predict_examples(X_test)"
   ]
  },
  {
   "cell_type": "code",
   "execution_count": 9,
   "id": "3acdf5fd",
   "metadata": {},
   "outputs": [
    {
     "name": "stdout",
     "output_type": "stream",
     "text": [
      "0.6948051948051948\n"
     ]
    }
   ],
   "source": [
    "acc = accuracy(y_test, predictions)\n",
    "print(acc)"
   ]
  },
  {
   "cell_type": "code",
   "execution_count": 17,
   "id": "6e19cdf2",
   "metadata": {},
   "outputs": [
    {
     "name": "stdout",
     "output_type": "stream",
     "text": [
      "              precision    recall  f1-score   support\n",
      "\n",
      "           0       0.79      0.72      0.75        99\n",
      "           1       0.56      0.65      0.61        55\n",
      "\n",
      "    accuracy                           0.69       154\n",
      "   macro avg       0.68      0.69      0.68       154\n",
      "weighted avg       0.71      0.69      0.70       154\n",
      "\n"
     ]
    }
   ],
   "source": [
    "print(classification_report(y_test, predictions))"
   ]
  },
  {
   "cell_type": "code",
   "execution_count": 15,
   "id": "e2676e09",
   "metadata": {},
   "outputs": [
    {
     "data": {
      "image/png": "[encoded data removed]",
      "text/plain": [
       "<Figure size 800x600 with 2 Axes>"
      ]
     },
     "metadata": {},
     "output_type": "display_data"
    }
   ],
   "source": [
    "# Plot confusion matrix\n",
    "cm = confusion_matrix(y_test, predictions)\n",
    "plt.figure(figsize=(8, 6))\n",
    "sns.heatmap(cm, annot=True, fmt='d', cmap='Blues')\n",
    "plt.title('Confusion Matrix')\n",
    "plt.xlabel('Predicted')\n",
    "plt.ylabel('True')\n",
    "plt.show()"
   ]
  },
  {
   "cell_type": "code",
   "execution_count": null,
   "id": "d2241c1c",
   "metadata": {},
   "outputs": [],
   "source": []
  }
 ],
 "metadata": {
  "kernelspec": {
   "display_name": "Python 3 (ipykernel)",
   "language": "python",
   "name": "python3"
  },
  "language_info": {
   "codemirror_mode": {
    "name": "ipython",
    "version": 3
   },
   "file_extension": ".py",
   "mimetype": "text/x-python",
   "name": "python",
   "nbconvert_exporter": "python",
   "pygments_lexer": "ipython3",
   "version": "3.9.13"
  }
 },
 "nbformat": 4,
 "nbformat_minor": 5
}
