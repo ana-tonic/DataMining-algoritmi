{
 "cells": [
  {
   "cell_type": "code",
   "execution_count": 1,
   "id": "0cb466d8",
   "metadata": {},
   "outputs": [],
   "source": [
    "dataset = [\n",
    "    [1, 3, 4],\n",
    "    [2, 3, 5],\n",
    "    [1, 2, 3, 5],\n",
    "    [2, 5],\n",
    "    [1, 3, 5]\n",
    "]"
   ]
  },
  {
   "cell_type": "code",
   "execution_count": 2,
   "id": "125c9c8f",
   "metadata": {},
   "outputs": [],
   "source": [
    "def create_frequency_table(dataset):\n",
    "    frequency_table = {}\n",
    "    for itemset in dataset:\n",
    "        for item in itemset:\n",
    "            if item in frequency_table:\n",
    "                frequency_table[item] += 1\n",
    "            else:\n",
    "                frequency_table[item] = 1\n",
    "    return frequency_table"
   ]
  },
  {
   "cell_type": "code",
   "execution_count": 3,
   "id": "2cbd930d",
   "metadata": {},
   "outputs": [],
   "source": [
    "def generate_L1(frequency_table, min_support_count):\n",
    "    # prolakazak kroz dataset da se odredi frekventnost\n",
    "    L1 = []\n",
    "    for item in frequency_table:\n",
    "        if frequency_table[item] > min_support_count:\n",
    "            L1.append([item])\n",
    "    return L1"
   ]
  },
  {
   "cell_type": "code",
   "execution_count": 15,
   "id": "c1e0de16",
   "metadata": {},
   "outputs": [],
   "source": [
    "def generate_Ck(itemset, k):\n",
    "    Ck = set()\n",
    "    for value in itemset:\n",
    "        for value2 in itemset:\n",
    "            if value != value2:\n",
    "                _tuple = tuple(set(value + value2)) \n",
    "                if len(_tuple) == k: \n",
    "                    Ck.add(_tuple)\n",
    "    return Ck"
   ]
  },
  {
   "cell_type": "code",
   "execution_count": 5,
   "id": "15821dbd",
   "metadata": {},
   "outputs": [],
   "source": [
    "# funkcija koja odredjuje frekventnost jednog jedinog kandidata\n",
    "def frequency_of_candidate(dataset, candidate):\n",
    "    freq = 0\n",
    "    for transaction in dataset: # za svaku transakciju u dataset-u\n",
    "        candidate_in_transaction = True\n",
    "        idx = 0\n",
    "        for item in candidate:\n",
    "            if item in transaction:\n",
    "                pass\n",
    "            else:\n",
    "                candidate_in_transaction = False\n",
    "        if candidate_in_transaction:\n",
    "            freq +=1\n",
    "    return freq"
   ]
  },
  {
   "cell_type": "code",
   "execution_count": 6,
   "id": "afa6e954",
   "metadata": {},
   "outputs": [],
   "source": [
    "# funkcija koja odredjuje setove velicine k koji su frekventni\n",
    "def generate_Lk(dataset, Ck, min_support_count):\n",
    "    \n",
    "    candidates_dictionary = {}\n",
    "    for candidate in Ck: # za svakog kandidata\n",
    "        freq = frequency_of_candidate(dataset, candidate)\n",
    "        candidates_dictionary[candidate] = freq\n",
    "\n",
    "    keys_to_remove = []\n",
    "    for key in candidates_dictionary:\n",
    "        if(candidates_dictionary[key] < min_support_count):\n",
    "            keys_to_remove.append(key)\n",
    "\n",
    "    for key in keys_to_remove:\n",
    "        del candidates_dictionary[key]\n",
    "        \n",
    "    candidates = []\n",
    "    for key in candidates_dictionary:\n",
    "        candidates.append(key)\n",
    "        \n",
    "    return candidates"
   ]
  },
  {
   "cell_type": "code",
   "execution_count": 7,
   "id": "6dc584a6",
   "metadata": {},
   "outputs": [],
   "source": [
    "import itertools\n",
    "\n",
    "def generate_candidate_sets(dataset, min_support_count):\n",
    "    frequency_table = create_frequency_table(dataset)\n",
    "    L1 = generate_L1(frequency_table, 2)\n",
    "    C = generate_Ck(L1, 2)\n",
    "    final_L = []\n",
    "    \n",
    "    i = 2\n",
    "    while C:\n",
    "        L = generate_Lk(dataset, C, min_support_count)\n",
    "        if(len(L)):\n",
    "            final_L.append(L)\n",
    "        C = generate_Ck(L, i+1)\n",
    "        i+=1\n",
    "    return list(itertools.chain.from_iterable(final_L))"
   ]
  },
  {
   "cell_type": "code",
   "execution_count": 8,
   "id": "3739e38f",
   "metadata": {},
   "outputs": [],
   "source": [
    "from itertools import chain, combinations\n",
    "\n",
    "def generate_all_subsets(lst):\n",
    "    return list(chain(*[combinations(lst, n) for n in range(1, len(lst))]))"
   ]
  },
  {
   "cell_type": "code",
   "execution_count": 9,
   "id": "c20f5ec5",
   "metadata": {},
   "outputs": [],
   "source": [
    "def generate_assotiation_rules(dataset, min_support_count, min_confidence):\n",
    "    candidate_sets = generate_candidate_sets(dataset, min_support_count)\n",
    "    \n",
    "    for itemset in candidate_sets:\n",
    "        subsets = generate_all_subsets(itemset)\n",
    "        itemset_freq = frequency_of_candidate(dataset, itemset)\n",
    "    \n",
    "        for subset in subsets:\n",
    "            freq = frequency_of_candidate(dataset, subset)\n",
    "            confidence = itemset_freq/freq\n",
    "            if confidence >= min_confidence:\n",
    "#                 print(str(subset) + \"=>\" + str(itemset) + \"-\" + str(subset))\n",
    "                print(\"if \" + str(subset) + \"then \" + str(set(itemset)-set(subset)))"
   ]
  },
  {
   "cell_type": "code",
   "execution_count": 16,
   "id": "80aef36c",
   "metadata": {},
   "outputs": [
    {
     "name": "stdout",
     "output_type": "stream",
     "text": [
      "if (1,)then {5}\n",
      "if (2,)then {3}\n",
      "if (2,)then {5}\n",
      "if (5,)then {2}\n",
      "if (1,)then {3}\n",
      "if (3,)then {1}\n",
      "if (3,)then {5}\n",
      "if (5,)then {3}\n",
      "if (2,)then {3, 5}\n",
      "if (2, 3)then {5}\n",
      "if (2, 5)then {3}\n",
      "if (3, 5)then {2}\n",
      "if (1,)then {3, 5}\n",
      "if (1, 3)then {5}\n",
      "if (1, 5)then {3}\n",
      "if (3, 5)then {1}\n"
     ]
    }
   ],
   "source": [
    "generate_assotiation_rules(dataset, 2, 0.6)"
   ]
  },
  {
   "cell_type": "code",
   "execution_count": 17,
   "id": "12642bf4",
   "metadata": {},
   "outputs": [
    {
     "name": "stdout",
     "output_type": "stream",
     "text": [
      "   antecedents consequents  antecedent support  consequent support  support   \n",
      "0          (1)         (3)                 0.6                 0.8      0.6  \\\n",
      "1          (3)         (1)                 0.8                 0.6      0.6   \n",
      "2          (1)         (5)                 0.6                 0.8      0.4   \n",
      "3          (2)         (3)                 0.6                 0.8      0.4   \n",
      "4          (2)         (5)                 0.6                 0.8      0.6   \n",
      "5          (5)         (2)                 0.8                 0.6      0.6   \n",
      "6          (3)         (5)                 0.8                 0.8      0.6   \n",
      "7          (5)         (3)                 0.8                 0.8      0.6   \n",
      "8       (1, 3)         (5)                 0.6                 0.8      0.4   \n",
      "9       (1, 5)         (3)                 0.4                 0.8      0.4   \n",
      "10      (3, 5)         (1)                 0.6                 0.6      0.4   \n",
      "11         (1)      (3, 5)                 0.6                 0.6      0.4   \n",
      "12      (2, 3)         (5)                 0.4                 0.8      0.4   \n",
      "13      (2, 5)         (3)                 0.6                 0.8      0.4   \n",
      "14      (3, 5)         (2)                 0.6                 0.6      0.4   \n",
      "15         (2)      (3, 5)                 0.6                 0.6      0.4   \n",
      "\n",
      "    confidence      lift  leverage  conviction  zhangs_metric  \n",
      "0     1.000000  1.250000      0.12         inf       0.500000  \n",
      "1     0.750000  1.250000      0.12         1.6       1.000000  \n",
      "2     0.666667  0.833333     -0.08         0.6      -0.333333  \n",
      "3     0.666667  0.833333     -0.08         0.6      -0.333333  \n",
      "4     1.000000  1.250000      0.12         inf       0.500000  \n",
      "5     0.750000  1.250000      0.12         1.6       1.000000  \n",
      "6     0.750000  0.937500     -0.04         0.8      -0.250000  \n",
      "7     0.750000  0.937500     -0.04         0.8      -0.250000  \n",
      "8     0.666667  0.833333     -0.08         0.6      -0.333333  \n",
      "9     1.000000  1.250000      0.08         inf       0.333333  \n",
      "10    0.666667  1.111111      0.04         1.2       0.250000  \n",
      "11    0.666667  1.111111      0.04         1.2       0.250000  \n",
      "12    1.000000  1.250000      0.08         inf       0.333333  \n",
      "13    0.666667  0.833333     -0.08         0.6      -0.333333  \n",
      "14    0.666667  1.111111      0.04         1.2       0.250000  \n",
      "15    0.666667  1.111111      0.04         1.2       0.250000  \n"
     ]
    }
   ],
   "source": [
    "# First, you need to import the necessary libraries\n",
    "from mlxtend.preprocessing import TransactionEncoder\n",
    "from mlxtend.frequent_patterns import apriori, association_rules\n",
    "import pandas as pd\n",
    "\n",
    "# This is your dataset\n",
    "dataset = [\n",
    "    [1, 3, 4],\n",
    "    [2, 3, 5],\n",
    "    [1, 2, 3, 5],\n",
    "    [2, 5],\n",
    "    [1, 3, 5]\n",
    "]\n",
    "\n",
    "# The dataset needs to be transformed into a one-hot encoded DataFrame\n",
    "te = TransactionEncoder()\n",
    "te_ary = te.fit(dataset).transform(dataset)\n",
    "df = pd.DataFrame(te_ary, columns=te.columns_)\n",
    "\n",
    "# Generate the frequent itemsets\n",
    "frequent_itemsets = apriori(df, min_support=0.4, use_colnames=True)\n",
    "\n",
    "# Generate the association rules\n",
    "rules = association_rules(frequent_itemsets, metric=\"confidence\", min_threshold=0.6)\n",
    "\n",
    "# Print the rules\n",
    "print(rules)"
   ]
  },
  {
   "cell_type": "code",
   "execution_count": null,
   "id": "36d1d8cd",
   "metadata": {},
   "outputs": [],
   "source": []
  }
 ],
 "metadata": {
  "kernelspec": {
   "display_name": "Python 3 (ipykernel)",
   "language": "python",
   "name": "python3"
  },
  "language_info": {
   "codemirror_mode": {
    "name": "ipython",
    "version": 3
   },
   "file_extension": ".py",
   "mimetype": "text/x-python",
   "name": "python",
   "nbconvert_exporter": "python",
   "pygments_lexer": "ipython3",
   "version": "3.9.13"
  }
 },
 "nbformat": 4,
 "nbformat_minor": 5
}
