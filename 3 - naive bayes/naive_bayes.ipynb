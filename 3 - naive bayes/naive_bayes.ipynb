{
 "cells": [
  {
   "cell_type": "code",
   "execution_count": 1,
   "id": "96491244",
   "metadata": {},
   "outputs": [],
   "source": [
    "import numpy as np\n",
    "from sklearn.model_selection import train_test_split\n",
    "from sklearn.datasets import load_breast_cancer\n",
    "from sklearn.metrics import classification_report, confusion_matrix\n",
    "import seaborn as sns\n",
    "import matplotlib.pyplot as plt"
   ]
  },
  {
   "cell_type": "code",
   "execution_count": 2,
   "id": "6355dbae",
   "metadata": {},
   "outputs": [],
   "source": [
    "cancer = load_breast_cancer()\n",
    "X = cancer.data\n",
    "y = cancer.target\n",
    "\n",
    "X_train, X_test, y_train, y_test = train_test_split(\n",
    "    X, y, test_size=0.2, random_state=42\n",
    ")"
   ]
  },
  {
   "cell_type": "code",
   "execution_count": 3,
   "id": "a18610b3",
   "metadata": {},
   "outputs": [
    {
     "data": {
      "text/plain": [
       "(455, 30)"
      ]
     },
     "execution_count": 3,
     "metadata": {},
     "output_type": "execute_result"
    }
   ],
   "source": [
    "X_train.shape"
   ]
  },
  {
   "cell_type": "code",
   "execution_count": 4,
   "id": "5df6323d",
   "metadata": {},
   "outputs": [
    {
     "data": {
      "text/plain": [
       "array([0, 1])"
      ]
     },
     "execution_count": 4,
     "metadata": {},
     "output_type": "execute_result"
    }
   ],
   "source": [
    "unique_values = np.unique(y_train)\n",
    "unique_values"
   ]
  },
  {
   "cell_type": "code",
   "execution_count": 5,
   "id": "3aa7c30d",
   "metadata": {},
   "outputs": [],
   "source": [
    "var_datasets = []\n",
    "\n",
    "for idx, value in enumerate(unique_values):\n",
    "    new_list = []\n",
    "    var_datasets.append(new_list)\n",
    "    for i in range(len(y_train)):\n",
    "        if y_train[i] == value:\n",
    "            var_datasets[idx].append(X_train[i])"
   ]
  },
  {
   "cell_type": "code",
   "execution_count": 6,
   "id": "fe30112a",
   "metadata": {},
   "outputs": [
    {
     "data": {
      "text/plain": [
       "2"
      ]
     },
     "execution_count": 6,
     "metadata": {},
     "output_type": "execute_result"
    }
   ],
   "source": [
    "len(var_datasets)"
   ]
  },
  {
   "cell_type": "code",
   "execution_count": 7,
   "id": "a9a75082",
   "metadata": {},
   "outputs": [],
   "source": [
    "# racunanje srednjih vrednosti za svaku klasu\n",
    "var_means = []\n",
    "\n",
    "for dataset in var_datasets:\n",
    "    sum = 0\n",
    "    count = 0\n",
    "    for row in dataset:\n",
    "        sum += row\n",
    "        count += 1\n",
    "    var_means.append(sum/count)"
   ]
  },
  {
   "cell_type": "code",
   "execution_count": 8,
   "id": "4ebb767c",
   "metadata": {},
   "outputs": [],
   "source": [
    "# racunanje varijanse za svaku klasu\n",
    "var_differences = []\n",
    "\n",
    "for idx, dataset in enumerate(var_datasets):\n",
    "    dataset_difference = []\n",
    "    for row in dataset:\n",
    "        difference = row - var_means[idx]\n",
    "        dataset_difference.append(difference)\n",
    "    var_differences.append(dataset_difference)\n",
    "    \n",
    "squared_differences = []\n",
    "\n",
    "for dataset in var_differences:\n",
    "    squared_dataset = []\n",
    "    \n",
    "    for row in dataset:\n",
    "        squared_row = [i ** 2 for i in row]\n",
    "        squared_dataset.append(squared_row)\n",
    "        \n",
    "    squared_differences.append(squared_dataset)\n",
    "    \n",
    "variances = []\n",
    "\n",
    "for dataset in squared_differences:\n",
    "    sum = 0\n",
    "    count = 0\n",
    "    for row in dataset:\n",
    "        row_array = np.array(row)\n",
    "        sum += row_array\n",
    "        count += 1\n",
    "    result = sum/count\n",
    "    variances.append(result)"
   ]
  },
  {
   "cell_type": "markdown",
   "id": "5b58932b",
   "metadata": {},
   "source": [
    "<h3>var_means - srednje vrednosti za svaku klasu</h3>\n",
    "<h3>variances - varijanse za svaku klasu</h3>"
   ]
  },
  {
   "cell_type": "code",
   "execution_count": 9,
   "id": "7bf99f9b",
   "metadata": {},
   "outputs": [],
   "source": [
    "# gausova funkcija gustine verovatnoce\n",
    "def log_gaussian_pdf(x, mean, std_dev):\n",
    "    exponent = -((x - mean)**2 / (2 * std_dev**2 ))\n",
    "    return exponent - np.log(np.sqrt(2 * np.pi) * std_dev)"
   ]
  },
  {
   "cell_type": "code",
   "execution_count": 10,
   "id": "9742d3b7",
   "metadata": {},
   "outputs": [],
   "source": [
    "# klasne verovatnoce\n",
    "test_set_probabilities = []\n",
    "\n",
    "for row in X_test: # za svaki red\n",
    "    row_probabilities = []\n",
    "    for j in range(len(var_datasets)): # za svaku klasu\n",
    "        probability = 0\n",
    "        for idx, feature in enumerate(row): # za svaki feature\n",
    "            gaussian_probability = log_gaussian_pdf(feature, var_means[j][idx], variances[j][idx])\n",
    "            probability += gaussian_probability\n",
    "        row_probabilities.append(probability)\n",
    "    test_set_probabilities.append(row_probabilities)"
   ]
  },
  {
   "cell_type": "code",
   "execution_count": 11,
   "id": "d853b23b",
   "metadata": {},
   "outputs": [],
   "source": [
    "# predvidjanje\n",
    "predictions = [np.argmax(probs) for probs in test_set_probabilities]"
   ]
  },
  {
   "cell_type": "code",
   "execution_count": 12,
   "id": "c47044a4",
   "metadata": {},
   "outputs": [],
   "source": [
    "def accuracy(y_true, y_pred):\n",
    "    correct = 0\n",
    "    total = len(y_true)\n",
    "    \n",
    "    for true, pred in zip(y_true, y_pred):\n",
    "        if true == pred:\n",
    "            correct += 1\n",
    "\n",
    "    return correct / total"
   ]
  },
  {
   "cell_type": "code",
   "execution_count": 13,
   "id": "e1e8412f",
   "metadata": {},
   "outputs": [
    {
     "name": "stdout",
     "output_type": "stream",
     "text": [
      "Accuracy: 76.31578947368422%\n"
     ]
    }
   ],
   "source": [
    "acc = accuracy(y_test, predictions)\n",
    "print(f\"Accuracy: {acc*100}%\")"
   ]
  },
  {
   "cell_type": "code",
   "execution_count": 14,
   "id": "bd478516",
   "metadata": {},
   "outputs": [
    {
     "name": "stdout",
     "output_type": "stream",
     "text": [
      "              precision    recall  f1-score   support\n",
      "\n",
      "           0       0.77      0.53      0.63        43\n",
      "           1       0.76      0.90      0.83        71\n",
      "\n",
      "    accuracy                           0.76       114\n",
      "   macro avg       0.76      0.72      0.73       114\n",
      "weighted avg       0.76      0.76      0.75       114\n",
      "\n"
     ]
    }
   ],
   "source": [
    "print(classification_report(y_test, predictions))"
   ]
  },
  {
   "cell_type": "code",
   "execution_count": 15,
   "id": "f4fbf85d",
   "metadata": {},
   "outputs": [
    {
     "data": {
      "image/png": "[encoded data removed]",
      "text/plain": [
       "<Figure size 800x600 with 2 Axes>"
      ]
     },
     "metadata": {},
     "output_type": "display_data"
    }
   ],
   "source": [
    "# Plot confusion matrix\n",
    "cm = confusion_matrix(y_test, predictions)\n",
    "plt.figure(figsize=(8, 6))\n",
    "sns.heatmap(cm, annot=True, fmt='d', cmap='Blues')\n",
    "plt.title('Confusion Matrix')\n",
    "plt.xlabel('Predicted')\n",
    "plt.ylabel('True')\n",
    "plt.show()"
   ]
  },
  {
   "cell_type": "code",
   "execution_count": null,
   "id": "c20af2c0",
   "metadata": {},
   "outputs": [],
   "source": []
  }
 ],
 "metadata": {
  "kernelspec": {
   "display_name": "Python 3 (ipykernel)",
   "language": "python",
   "name": "python3"
  },
  "language_info": {
   "codemirror_mode": {
    "name": "ipython",
    "version": 3
   },
   "file_extension": ".py",
   "mimetype": "text/x-python",
   "name": "python",
   "nbconvert_exporter": "python",
   "pygments_lexer": "ipython3",
   "version": "3.9.13"
  }
 },
 "nbformat": 4,
 "nbformat_minor": 5
}
