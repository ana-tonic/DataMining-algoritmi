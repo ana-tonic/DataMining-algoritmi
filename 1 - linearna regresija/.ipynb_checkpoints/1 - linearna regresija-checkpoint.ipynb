{
 "cells": [
  {
   "cell_type": "code",
   "execution_count": 22,
   "id": "6015760c",
   "metadata": {},
   "outputs": [],
   "source": [
    "import pandas as pd\n",
    "import numpy as np\n",
    "import matplotlib.pyplot as plt\n",
    "from sklearn.preprocessing import LabelEncoder\n",
    "from matplotlib import rcParams\n",
    "from sklearn.model_selection import train_test_split\n",
    "from sklearn.linear_model import LinearRegression\n",
    "from sklearn.metrics import mean_squared_error\n",
    "from sklearn.preprocessing import StandardScaler"
   ]
  },
  {
   "cell_type": "code",
   "execution_count": 23,
   "id": "5448ec77",
   "metadata": {},
   "outputs": [],
   "source": [
    "class MyLinearRegression:\n",
    "    def __init__(\n",
    "        self,\n",
    "        learning_rate=0.01,\n",
    "        num_iterations=2000,\n",
    "        tol=1e-4,\n",
    "    ):\n",
    "        self.learning_rate = learning_rate\n",
    "        self.num_iterations = num_iterations\n",
    "        self.coeffs = None\n",
    "        self.loss_history = []\n",
    "        self.tol = tol\n",
    "\n",
    "    def _mean_squared_error(self, y, y_hat):\n",
    "        error = 0\n",
    "        for i in range(len(y)):\n",
    "            error += (y[i] - y_hat[i]) ** 2\n",
    "        return error / len(y)\n",
    "\n",
    "    def fit(self, X, y):\n",
    "        y = y.to_numpy().reshape(-1, 1)\n",
    "        self.loss_history, W = self.gradient_descent(X, y)\n",
    "        self.coeffs = W\n",
    "        return self\n",
    "\n",
    "    def plot_loss_history(self):\n",
    "        plt.plot(self.loss_history)\n",
    "        plt.xlabel(\"Iteration\")\n",
    "        plt.ylabel(\"MSE\")\n",
    "        plt.title(\"MSE per iteration\")\n",
    "        plt.show()\n",
    "\n",
    "    def predict(self, X):\n",
    "        X = np.insert(X, 0, 1, axis=1)\n",
    "        return X.dot(self.coeffs)\n",
    "\n",
    "    def gradient_descent(self, X, y, tolerance=1e-6, max_iterations=2000):\n",
    "        n_samples, n_features = X.shape\n",
    "        iterations = 0\n",
    "        W = np.zeros(n_features + 1)\n",
    "        mse_history = []\n",
    "\n",
    "        X = np.insert(X, 0, 1, axis=1)\n",
    "\n",
    "        while iterations < max_iterations:\n",
    "            y_hat = np.dot(X, W)\n",
    "            loss = self._mean_squared_error(y, y_hat)\n",
    "            mse_history.append(loss)\n",
    "\n",
    "            gradients = (1 / n_samples) * (2 * np.dot(X.T, (y_hat.reshape(-1, 1) - y)))\n",
    "\n",
    "            W -= self.learning_rate * gradients.flatten()\n",
    "\n",
    "            if (\n",
    "                len(mse_history) > 1\n",
    "                and abs(mse_history[-1] - mse_history[-2]) < tolerance\n",
    "            ):\n",
    "                break\n",
    "\n",
    "            iterations += 1\n",
    "\n",
    "        return mse_history, W"
   ]
  },
  {
   "cell_type": "code",
   "execution_count": 24,
   "id": "0a1196e1",
   "metadata": {},
   "outputs": [],
   "source": [
    "data_set = pd.read_csv('insurance.csv')\n",
    "df = pd.DataFrame(data_set)"
   ]
  },
  {
   "cell_type": "code",
   "execution_count": 25,
   "id": "d4b173a5",
   "metadata": {},
   "outputs": [
    {
     "data": {
      "text/plain": [
       "(1338, 7)"
      ]
     },
     "execution_count": 25,
     "metadata": {},
     "output_type": "execute_result"
    }
   ],
   "source": [
    "df.shape"
   ]
  },
  {
   "cell_type": "code",
   "execution_count": 26,
   "id": "47b13adb",
   "metadata": {},
   "outputs": [
    {
     "data": {
      "text/plain": [
       "Index(['age', 'sex', 'bmi', 'children', 'smoker', 'region', 'charges'], dtype='object')"
      ]
     },
     "execution_count": 26,
     "metadata": {},
     "output_type": "execute_result"
    }
   ],
   "source": [
    "df.columns"
   ]
  },
  {
   "cell_type": "code",
   "execution_count": 27,
   "id": "1e1b5c55",
   "metadata": {},
   "outputs": [
    {
     "name": "stdout",
     "output_type": "stream",
     "text": [
      "age           int64\n",
      "sex          object\n",
      "bmi         float64\n",
      "children      int64\n",
      "smoker       object\n",
      "region       object\n",
      "charges     float64\n",
      "dtype: object\n"
     ]
    }
   ],
   "source": [
    "print(df.dtypes)"
   ]
  },
  {
   "cell_type": "code",
   "execution_count": 28,
   "id": "6a4125d8",
   "metadata": {},
   "outputs": [],
   "source": [
    "df[[\"sex\", \"smoker\", \"region\"]] = df[[\"sex\", \"smoker\", \"region\"]].astype(\"category\")\n",
    "label = LabelEncoder()\n",
    "label.fit(df.sex.drop_duplicates())\n",
    "df.sex = label.transform(df.sex)\n",
    "label.fit(df.smoker.drop_duplicates())\n",
    "df.smoker = label.transform(df.smoker)\n",
    "label.fit(df.region.drop_duplicates())\n",
    "df.region = label.transform(df.region)"
   ]
  },
  {
   "cell_type": "code",
   "execution_count": 29,
   "id": "f3b15541",
   "metadata": {},
   "outputs": [
    {
     "name": "stdout",
     "output_type": "stream",
     "text": [
      "There are no NaN values in the DataFrame.\n"
     ]
    }
   ],
   "source": [
    "if df.isna().any().any():\n",
    "    print(\"There are NaN values in the DataFrame.\")\n",
    "else:\n",
    "    print(\"There are no NaN values in the DataFrame.\")"
   ]
  },
  {
   "cell_type": "code",
   "execution_count": 30,
   "id": "c391afda",
   "metadata": {},
   "outputs": [
    {
     "name": "stdout",
     "output_type": "stream",
     "text": [
      "MyLinearRegression MSE: 32291520.021294396\n",
      "Scikit-Learn LinearRegression MSE: 31845929.134159435\n"
     ]
    },
    {
     "data": {
      "image/png": "[encoded data removed]",
      "text/plain": [
       "<Figure size 640x480 with 1 Axes>"
      ]
     },
     "metadata": {},
     "output_type": "display_data"
    }
   ],
   "source": [
    "x = df.drop([\"charges\"], axis=1)\n",
    "y = df[\"charges\"]\n",
    "\n",
    "x_train, x_test, y_train, y_test = train_test_split(x, y, test_size=0.2, random_state=0)\n",
    "\n",
    "scaler = StandardScaler()\n",
    "x_train_scaled = scaler.fit_transform(x_train)\n",
    "x_test_scaled = scaler.transform(x_test)\n",
    "\n",
    "regressor = MyLinearRegression(\n",
    "    learning_rate=0.001, num_iterations=2000, tol=1e-4\n",
    ")\n",
    "regressor.fit(x_train_scaled, y_train)\n",
    "y_pred = regressor.predict(x_test_scaled)\n",
    "\n",
    "from sklearn.linear_model import LinearRegression\n",
    "\n",
    "sk_regressor = LinearRegression()\n",
    "sk_regressor.fit(x_train, y_train)\n",
    "sk_y_pred = sk_regressor.predict(x_test)\n",
    "\n",
    "print(\"MyLinearRegression MSE:\", mean_squared_error(y_test, y_pred))\n",
    "print(\"Scikit-Learn LinearRegression MSE:\", mean_squared_error(y_test, sk_y_pred))\n",
    "\n",
    "regressor.plot_loss_history()"
   ]
  }
 ],
 "metadata": {
  "kernelspec": {
   "display_name": "Python 3 (ipykernel)",
   "language": "python",
   "name": "python3"
  },
  "language_info": {
   "codemirror_mode": {
    "name": "ipython",
    "version": 3
   },
   "file_extension": ".py",
   "mimetype": "text/x-python",
   "name": "python",
   "nbconvert_exporter": "python",
   "pygments_lexer": "ipython3",
   "version": "3.9.13"
  },
  "vscode": {
   "interpreter": {
    "hash": "df87b94f50c6b8081a9a425f6ade537f06441a824b7d68371eb29c5a5eb2838b"
   }
  }
 },
 "nbformat": 4,
 "nbformat_minor": 5
}
